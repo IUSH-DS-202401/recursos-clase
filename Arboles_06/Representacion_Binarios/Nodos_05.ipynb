{
 "cells": [
  {
   "cell_type": "code",
   "execution_count": 1,
   "metadata": {},
   "outputs": [],
   "source": [
    "\n",
    "class NodoB:\n",
    "    def __init__(self,dato):\n",
    "        self.dato = dato\n",
    "        self.Li = None\n",
    "        self.Ld = None\n",
    "\n",
    "class ArbolBNodo:\n",
    "    def __init__(self):\n",
    "        self.raiz = None\n",
    "\n",
    "\n"
   ]
  }
 ],
 "metadata": {
  "kernelspec": {
   "display_name": "realbase",
   "language": "python",
   "name": "python3"
  },
  "language_info": {
   "codemirror_mode": {
    "name": "ipython",
    "version": 3
   },
   "file_extension": ".py",
   "mimetype": "text/x-python",
   "name": "python",
   "nbconvert_exporter": "python",
   "pygments_lexer": "ipython3",
   "version": "3.11.8"
  }
 },
 "nbformat": 4,
 "nbformat_minor": 2
}
